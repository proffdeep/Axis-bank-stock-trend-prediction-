{
 "cells": [
  {
   "cell_type": "code",
   "execution_count": 1,
   "metadata": {},
   "outputs": [],
   "source": [
    "import numpy as np\n",
    "import pandas as pd"
   ]
  },
  {
   "cell_type": "code",
   "execution_count": 2,
   "metadata": {},
   "outputs": [],
   "source": [
    "df = pd.read_csv('AXISBANK.csv',parse_dates=True)\n",
    "df['Date'] = pd.to_datetime(df['Date'])\n",
    "df = df[['Date','Open','Close','Volume']]\n",
    "df = df.iloc[2995:4752] # 2012 - 2018\n",
    "df = df.reset_index(drop=True)"
   ]
  },
  {
   "cell_type": "code",
   "execution_count": 3,
   "metadata": {},
   "outputs": [],
   "source": [
    "dataset_train = df.iloc[:1734,:]\n",
    "dataset_test = df.iloc[1734:,:]"
   ]
  },
  {
   "cell_type": "code",
   "execution_count": 4,
   "metadata": {},
   "outputs": [],
   "source": [
    "train = dataset_train.drop(['Date'],axis = 1).values"
   ]
  },
  {
   "cell_type": "code",
   "execution_count": 5,
   "metadata": {},
   "outputs": [],
   "source": [
    "from sklearn.preprocessing import MinMaxScaler"
   ]
  },
  {
   "cell_type": "code",
   "execution_count": 6,
   "metadata": {},
   "outputs": [
    {
     "data": {
      "text/plain": [
       "(1734, 3)"
      ]
     },
     "execution_count": 6,
     "metadata": {},
     "output_type": "execute_result"
    }
   ],
   "source": [
    "train.shape"
   ]
  },
  {
   "cell_type": "code",
   "execution_count": 7,
   "metadata": {},
   "outputs": [],
   "source": [
    "sc = MinMaxScaler()\n",
    "train = sc.fit_transform(train)"
   ]
  },
  {
   "cell_type": "code",
   "execution_count": 8,
   "metadata": {},
   "outputs": [],
   "source": [
    "def split_sequence(dataset,n_steps,n_out_steps):\n",
    "    X,y = [],[]\n",
    "    for i in range(n_steps,dataset.shape[0]):\n",
    "        if i + n_out_steps > len(dataset):\n",
    "            break\n",
    "        X.append(dataset[i-n_steps:i,:])\n",
    "        y.append(dataset[i:i+n_out_steps,:])\n",
    "        \n",
    "    return np.array(X),np.array(y)"
   ]
  },
  {
   "cell_type": "code",
   "execution_count": 9,
   "metadata": {},
   "outputs": [],
   "source": [
    "X,y = split_sequence(train,60,23)"
   ]
  },
  {
   "cell_type": "code",
   "execution_count": 10,
   "metadata": {},
   "outputs": [
    {
     "data": {
      "text/plain": [
       "((1652, 60, 3), (1652, 23, 3))"
      ]
     },
     "execution_count": 10,
     "metadata": {},
     "output_type": "execute_result"
    }
   ],
   "source": [
    "X.shape,y.shape"
   ]
  },
  {
   "cell_type": "code",
   "execution_count": 11,
   "metadata": {},
   "outputs": [],
   "source": [
    "n_outputs = X.shape[1] * X.shape[2]\n",
    "X = X.reshape((X.shape[0], n_outputs))\n",
    "\n",
    "n_outputs = y.shape[1] * y.shape[2]\n",
    "y = y.reshape((y.shape[0], n_outputs))"
   ]
  },
  {
   "cell_type": "code",
   "execution_count": 12,
   "metadata": {},
   "outputs": [
    {
     "data": {
      "text/plain": [
       "((1652, 180), (1652, 69))"
      ]
     },
     "execution_count": 12,
     "metadata": {},
     "output_type": "execute_result"
    }
   ],
   "source": [
    "X.shape, y.shape"
   ]
  },
  {
   "cell_type": "code",
   "execution_count": 13,
   "metadata": {},
   "outputs": [],
   "source": [
    "from tensorflow.keras.layers import Dense\n",
    "from tensorflow.keras.models import Sequential"
   ]
  },
  {
   "cell_type": "code",
   "execution_count": 14,
   "metadata": {},
   "outputs": [],
   "source": [
    "model = Sequential([\n",
    "    Dense(150,input_dim=X.shape[1]),\n",
    "    \n",
    "    \n",
    "    Dense(150),\n",
    "    \n",
    "    \n",
    "    Dense(100),\n",
    "    \n",
    "    \n",
    "    Dense(100),\n",
    "        \n",
    "    Dense(69)\n",
    "])"
   ]
  },
  {
   "cell_type": "code",
   "execution_count": 15,
   "metadata": {},
   "outputs": [
    {
     "name": "stdout",
     "output_type": "stream",
     "text": [
      "Model: \"sequential\"\n",
      "_________________________________________________________________\n",
      "Layer (type)                 Output Shape              Param #   \n",
      "=================================================================\n",
      "dense (Dense)                (None, 150)               27150     \n",
      "_________________________________________________________________\n",
      "dense_1 (Dense)              (None, 150)               22650     \n",
      "_________________________________________________________________\n",
      "dense_2 (Dense)              (None, 100)               15100     \n",
      "_________________________________________________________________\n",
      "dense_3 (Dense)              (None, 100)               10100     \n",
      "_________________________________________________________________\n",
      "dense_4 (Dense)              (None, 69)                6969      \n",
      "=================================================================\n",
      "Total params: 81,969\n",
      "Trainable params: 81,969\n",
      "Non-trainable params: 0\n",
      "_________________________________________________________________\n"
     ]
    }
   ],
   "source": [
    "model.compile(loss='mean_squared_error',optimizer='adam')\n",
    "model.summary()"
   ]
  },
  {
   "cell_type": "code",
   "execution_count": 16,
   "metadata": {},
   "outputs": [
    {
     "name": "stdout",
     "output_type": "stream",
     "text": [
      "Epoch 1/100\n",
      "52/52 [==============================] - 0s 3ms/step - loss: 0.0219\n",
      "Epoch 2/100\n",
      "52/52 [==============================] - 0s 3ms/step - loss: 0.0086\n",
      "Epoch 3/100\n",
      "52/52 [==============================] - 0s 3ms/step - loss: 0.0081\n",
      "Epoch 4/100\n",
      "52/52 [==============================] - 0s 3ms/step - loss: 0.0077\n",
      "Epoch 5/100\n",
      "52/52 [==============================] - 0s 4ms/step - loss: 0.0079\n",
      "Epoch 6/100\n",
      "52/52 [==============================] - 0s 5ms/step - loss: 0.0076\n",
      "Epoch 7/100\n",
      "52/52 [==============================] - 0s 5ms/step - loss: 0.0071\n",
      "Epoch 8/100\n",
      "52/52 [==============================] - 0s 5ms/step - loss: 0.0081\n",
      "Epoch 9/100\n",
      "52/52 [==============================] - 0s 3ms/step - loss: 0.0082\n",
      "Epoch 10/100\n",
      "52/52 [==============================] - 0s 3ms/step - loss: 0.0095\n",
      "Epoch 11/100\n",
      "52/52 [==============================] - 0s 3ms/step - loss: 0.0069\n",
      "Epoch 12/100\n",
      "52/52 [==============================] - 0s 3ms/step - loss: 0.0066\n",
      "Epoch 13/100\n",
      "52/52 [==============================] - 0s 3ms/step - loss: 0.0072\n",
      "Epoch 14/100\n",
      "52/52 [==============================] - 0s 3ms/step - loss: 0.0079\n",
      "Epoch 15/100\n",
      "52/52 [==============================] - 0s 3ms/step - loss: 0.0068\n",
      "Epoch 16/100\n",
      "52/52 [==============================] - 0s 3ms/step - loss: 0.0079\n",
      "Epoch 17/100\n",
      "52/52 [==============================] - 0s 3ms/step - loss: 0.0067\n",
      "Epoch 18/100\n",
      "52/52 [==============================] - 0s 3ms/step - loss: 0.0064\n",
      "Epoch 19/100\n",
      "52/52 [==============================] - 0s 3ms/step - loss: 0.0065\n",
      "Epoch 20/100\n",
      "52/52 [==============================] - 0s 3ms/step - loss: 0.0063\n",
      "Epoch 21/100\n",
      "52/52 [==============================] - 0s 3ms/step - loss: 0.0066\n",
      "Epoch 22/100\n",
      "52/52 [==============================] - 0s 3ms/step - loss: 0.0065\n",
      "Epoch 23/100\n",
      "52/52 [==============================] - 0s 3ms/step - loss: 0.0075A: 0s - loss: 0.0\n",
      "Epoch 24/100\n",
      "52/52 [==============================] - 0s 3ms/step - loss: 0.0070\n",
      "Epoch 25/100\n",
      "52/52 [==============================] - 0s 3ms/step - loss: 0.0066\n",
      "Epoch 26/100\n",
      "52/52 [==============================] - 0s 3ms/step - loss: 0.0061\n",
      "Epoch 27/100\n",
      "52/52 [==============================] - 0s 3ms/step - loss: 0.0065\n",
      "Epoch 28/100\n",
      "52/52 [==============================] - 0s 3ms/step - loss: 0.0062\n",
      "Epoch 29/100\n",
      "52/52 [==============================] - 0s 3ms/step - loss: 0.0065\n",
      "Epoch 30/100\n",
      "52/52 [==============================] - 0s 3ms/step - loss: 0.0063\n",
      "Epoch 31/100\n",
      "52/52 [==============================] - 0s 3ms/step - loss: 0.0066\n",
      "Epoch 32/100\n",
      "52/52 [==============================] - 0s 3ms/step - loss: 0.0061A: 0s - loss: 0.006\n",
      "Epoch 33/100\n",
      "52/52 [==============================] - 0s 3ms/step - loss: 0.0067\n",
      "Epoch 34/100\n",
      "52/52 [==============================] - 0s 3ms/step - loss: 0.0068\n",
      "Epoch 35/100\n",
      "52/52 [==============================] - 0s 3ms/step - loss: 0.0070\n",
      "Epoch 36/100\n",
      "52/52 [==============================] - 0s 4ms/step - loss: 0.0067\n",
      "Epoch 37/100\n",
      "52/52 [==============================] - 0s 5ms/step - loss: 0.0067\n",
      "Epoch 38/100\n",
      "52/52 [==============================] - 0s 5ms/step - loss: 0.0065\n",
      "Epoch 39/100\n",
      "52/52 [==============================] - 0s 5ms/step - loss: 0.0062\n",
      "Epoch 40/100\n",
      "52/52 [==============================] - 0s 5ms/step - loss: 0.0063\n",
      "Epoch 41/100\n",
      "52/52 [==============================] - 0s 4ms/step - loss: 0.0064\n",
      "Epoch 42/100\n",
      "52/52 [==============================] - 0s 3ms/step - loss: 0.0065\n",
      "Epoch 43/100\n",
      "52/52 [==============================] - 0s 3ms/step - loss: 0.0062\n",
      "Epoch 44/100\n",
      "52/52 [==============================] - 0s 3ms/step - loss: 0.0061\n",
      "Epoch 45/100\n",
      "52/52 [==============================] - 0s 4ms/step - loss: 0.0062\n",
      "Epoch 46/100\n",
      "52/52 [==============================] - 0s 3ms/step - loss: 0.0064\n",
      "Epoch 47/100\n",
      "52/52 [==============================] - 0s 3ms/step - loss: 0.0069\n",
      "Epoch 48/100\n",
      "52/52 [==============================] - 0s 3ms/step - loss: 0.0062\n",
      "Epoch 49/100\n",
      "52/52 [==============================] - 0s 4ms/step - loss: 0.0064\n",
      "Epoch 50/100\n",
      "52/52 [==============================] - 0s 4ms/step - loss: 0.0061\n",
      "Epoch 51/100\n",
      "52/52 [==============================] - 0s 3ms/step - loss: 0.0063\n",
      "Epoch 52/100\n",
      "52/52 [==============================] - 0s 3ms/step - loss: 0.0061\n",
      "Epoch 53/100\n",
      "52/52 [==============================] - 0s 3ms/step - loss: 0.0063\n",
      "Epoch 54/100\n",
      "52/52 [==============================] - 0s 3ms/step - loss: 0.0067\n",
      "Epoch 55/100\n",
      "52/52 [==============================] - 0s 3ms/step - loss: 0.0062\n",
      "Epoch 56/100\n",
      "52/52 [==============================] - 0s 3ms/step - loss: 0.0066\n",
      "Epoch 57/100\n",
      "52/52 [==============================] - 0s 3ms/step - loss: 0.0061\n",
      "Epoch 58/100\n",
      "52/52 [==============================] - 0s 3ms/step - loss: 0.0070\n",
      "Epoch 59/100\n",
      "52/52 [==============================] - 0s 4ms/step - loss: 0.0063\n",
      "Epoch 60/100\n",
      "52/52 [==============================] - 0s 3ms/step - loss: 0.0062\n",
      "Epoch 61/100\n",
      "52/52 [==============================] - 0s 3ms/step - loss: 0.0063\n",
      "Epoch 62/100\n",
      "52/52 [==============================] - 0s 3ms/step - loss: 0.0063\n",
      "Epoch 63/100\n",
      "52/52 [==============================] - 0s 3ms/step - loss: 0.0066\n",
      "Epoch 64/100\n",
      "52/52 [==============================] - 0s 3ms/step - loss: 0.0063\n",
      "Epoch 65/100\n",
      "52/52 [==============================] - 0s 3ms/step - loss: 0.0063\n",
      "Epoch 66/100\n",
      "52/52 [==============================] - 0s 3ms/step - loss: 0.0060\n",
      "Epoch 67/100\n",
      "52/52 [==============================] - 0s 3ms/step - loss: 0.0064\n",
      "Epoch 68/100\n",
      "52/52 [==============================] - 0s 3ms/step - loss: 0.0061\n",
      "Epoch 69/100\n",
      "52/52 [==============================] - 0s 5ms/step - loss: 0.0061\n",
      "Epoch 70/100\n",
      "52/52 [==============================] - 0s 5ms/step - loss: 0.0061\n",
      "Epoch 71/100\n",
      "52/52 [==============================] - 0s 4ms/step - loss: 0.0062\n",
      "Epoch 72/100\n",
      "52/52 [==============================] - 0s 4ms/step - loss: 0.0062\n",
      "Epoch 73/100\n",
      "52/52 [==============================] - 0s 3ms/step - loss: 0.0064\n",
      "Epoch 74/100\n",
      "52/52 [==============================] - 0s 3ms/step - loss: 0.0061\n",
      "Epoch 75/100\n",
      "52/52 [==============================] - 0s 3ms/step - loss: 0.0062\n",
      "Epoch 76/100\n",
      "52/52 [==============================] - 0s 3ms/step - loss: 0.0060\n",
      "Epoch 77/100\n",
      "52/52 [==============================] - 0s 3ms/step - loss: 0.0059\n",
      "Epoch 78/100\n",
      "52/52 [==============================] - 0s 3ms/step - loss: 0.0063\n",
      "Epoch 79/100\n",
      "52/52 [==============================] - 0s 3ms/step - loss: 0.0063\n",
      "Epoch 80/100\n",
      "52/52 [==============================] - 0s 3ms/step - loss: 0.0062\n",
      "Epoch 81/100\n",
      "52/52 [==============================] - 0s 3ms/step - loss: 0.0064\n",
      "Epoch 82/100\n",
      "52/52 [==============================] - 0s 3ms/step - loss: 0.0064\n",
      "Epoch 83/100\n",
      "52/52 [==============================] - 0s 3ms/step - loss: 0.0063\n",
      "Epoch 84/100\n",
      "52/52 [==============================] - 0s 3ms/step - loss: 0.0063\n",
      "Epoch 85/100\n",
      "52/52 [==============================] - 0s 3ms/step - loss: 0.0064\n",
      "Epoch 86/100\n",
      "52/52 [==============================] - 0s 3ms/step - loss: 0.0061\n",
      "Epoch 87/100\n",
      "52/52 [==============================] - 0s 3ms/step - loss: 0.0061\n",
      "Epoch 88/100\n",
      "52/52 [==============================] - 0s 3ms/step - loss: 0.0060\n",
      "Epoch 89/100\n",
      "52/52 [==============================] - 0s 3ms/step - loss: 0.0063\n",
      "Epoch 90/100\n",
      "52/52 [==============================] - 0s 3ms/step - loss: 0.0061\n",
      "Epoch 91/100\n",
      "52/52 [==============================] - 0s 3ms/step - loss: 0.0062\n",
      "Epoch 92/100\n",
      "52/52 [==============================] - 0s 3ms/step - loss: 0.0068\n",
      "Epoch 93/100\n",
      "52/52 [==============================] - 0s 3ms/step - loss: 0.0061\n",
      "Epoch 94/100\n",
      "52/52 [==============================] - 0s 3ms/step - loss: 0.0060\n",
      "Epoch 95/100\n",
      "52/52 [==============================] - 0s 3ms/step - loss: 0.0060\n",
      "Epoch 96/100\n",
      "52/52 [==============================] - 0s 3ms/step - loss: 0.0061\n",
      "Epoch 97/100\n",
      "52/52 [==============================] - 0s 3ms/step - loss: 0.0064\n",
      "Epoch 98/100\n",
      "52/52 [==============================] - 0s 3ms/step - loss: 0.0061\n",
      "Epoch 99/100\n",
      "52/52 [==============================] - 0s 3ms/step - loss: 0.0062\n",
      "Epoch 100/100\n",
      "52/52 [==============================] - 0s 3ms/step - loss: 0.0066\n"
     ]
    },
    {
     "data": {
      "text/plain": [
       "<tensorflow.python.keras.callbacks.History at 0x20c5e4de508>"
      ]
     },
     "execution_count": 16,
     "metadata": {},
     "output_type": "execute_result"
    }
   ],
   "source": [
    "model.fit(X,y,batch_size=32,epochs=100)"
   ]
  },
  {
   "cell_type": "code",
   "execution_count": 17,
   "metadata": {},
   "outputs": [
    {
     "data": {
      "text/html": [
       "<div>\n",
       "<style scoped>\n",
       "    .dataframe tbody tr th:only-of-type {\n",
       "        vertical-align: middle;\n",
       "    }\n",
       "\n",
       "    .dataframe tbody tr th {\n",
       "        vertical-align: top;\n",
       "    }\n",
       "\n",
       "    .dataframe thead th {\n",
       "        text-align: right;\n",
       "    }\n",
       "</style>\n",
       "<table border=\"1\" class=\"dataframe\">\n",
       "  <thead>\n",
       "    <tr style=\"text-align: right;\">\n",
       "      <th></th>\n",
       "      <th>Date</th>\n",
       "      <th>Open</th>\n",
       "      <th>Close</th>\n",
       "      <th>Volume</th>\n",
       "    </tr>\n",
       "  </thead>\n",
       "  <tbody>\n",
       "    <tr>\n",
       "      <th>0</th>\n",
       "      <td>2012-01-02</td>\n",
       "      <td>810.00</td>\n",
       "      <td>794.80</td>\n",
       "      <td>1945453</td>\n",
       "    </tr>\n",
       "    <tr>\n",
       "      <th>1</th>\n",
       "      <td>2012-01-03</td>\n",
       "      <td>805.10</td>\n",
       "      <td>837.55</td>\n",
       "      <td>2142010</td>\n",
       "    </tr>\n",
       "    <tr>\n",
       "      <th>2</th>\n",
       "      <td>2012-01-04</td>\n",
       "      <td>844.80</td>\n",
       "      <td>848.15</td>\n",
       "      <td>3387350</td>\n",
       "    </tr>\n",
       "    <tr>\n",
       "      <th>3</th>\n",
       "      <td>2012-01-05</td>\n",
       "      <td>849.00</td>\n",
       "      <td>870.65</td>\n",
       "      <td>3380234</td>\n",
       "    </tr>\n",
       "    <tr>\n",
       "      <th>4</th>\n",
       "      <td>2012-01-06</td>\n",
       "      <td>862.80</td>\n",
       "      <td>853.50</td>\n",
       "      <td>2469065</td>\n",
       "    </tr>\n",
       "    <tr>\n",
       "      <th>...</th>\n",
       "      <td>...</td>\n",
       "      <td>...</td>\n",
       "      <td>...</td>\n",
       "      <td>...</td>\n",
       "    </tr>\n",
       "    <tr>\n",
       "      <th>1729</th>\n",
       "      <td>2018-12-24</td>\n",
       "      <td>626.00</td>\n",
       "      <td>615.00</td>\n",
       "      <td>6191605</td>\n",
       "    </tr>\n",
       "    <tr>\n",
       "      <th>1730</th>\n",
       "      <td>2018-12-26</td>\n",
       "      <td>611.00</td>\n",
       "      <td>619.50</td>\n",
       "      <td>6519211</td>\n",
       "    </tr>\n",
       "    <tr>\n",
       "      <th>1731</th>\n",
       "      <td>2018-12-27</td>\n",
       "      <td>623.55</td>\n",
       "      <td>617.55</td>\n",
       "      <td>12304812</td>\n",
       "    </tr>\n",
       "    <tr>\n",
       "      <th>1732</th>\n",
       "      <td>2018-12-28</td>\n",
       "      <td>623.90</td>\n",
       "      <td>625.05</td>\n",
       "      <td>6372911</td>\n",
       "    </tr>\n",
       "    <tr>\n",
       "      <th>1733</th>\n",
       "      <td>2018-12-31</td>\n",
       "      <td>630.40</td>\n",
       "      <td>619.90</td>\n",
       "      <td>6030093</td>\n",
       "    </tr>\n",
       "  </tbody>\n",
       "</table>\n",
       "<p>1734 rows × 4 columns</p>\n",
       "</div>"
      ],
      "text/plain": [
       "           Date    Open   Close    Volume\n",
       "0    2012-01-02  810.00  794.80   1945453\n",
       "1    2012-01-03  805.10  837.55   2142010\n",
       "2    2012-01-04  844.80  848.15   3387350\n",
       "3    2012-01-05  849.00  870.65   3380234\n",
       "4    2012-01-06  862.80  853.50   2469065\n",
       "...         ...     ...     ...       ...\n",
       "1729 2018-12-24  626.00  615.00   6191605\n",
       "1730 2018-12-26  611.00  619.50   6519211\n",
       "1731 2018-12-27  623.55  617.55  12304812\n",
       "1732 2018-12-28  623.90  625.05   6372911\n",
       "1733 2018-12-31  630.40  619.90   6030093\n",
       "\n",
       "[1734 rows x 4 columns]"
      ]
     },
     "execution_count": 17,
     "metadata": {},
     "output_type": "execute_result"
    }
   ],
   "source": [
    "dataset_train"
   ]
  },
  {
   "cell_type": "code",
   "execution_count": 18,
   "metadata": {},
   "outputs": [],
   "source": [
    "test = dataset_test.drop(['Date'],axis = 1)"
   ]
  },
  {
   "cell_type": "code",
   "execution_count": 19,
   "metadata": {},
   "outputs": [],
   "source": [
    "dataset_train_last60 = dataset_train.iloc[-60:,:]"
   ]
  },
  {
   "cell_type": "code",
   "execution_count": 20,
   "metadata": {},
   "outputs": [],
   "source": [
    "dataset_test_with_last60_of_train = pd.concat((dataset_train_last60,dataset_test),axis=0)"
   ]
  },
  {
   "cell_type": "code",
   "execution_count": 22,
   "metadata": {
    "collapsed": true
   },
   "outputs": [
    {
     "data": {
      "text/html": [
       "<div>\n",
       "<style scoped>\n",
       "    .dataframe tbody tr th:only-of-type {\n",
       "        vertical-align: middle;\n",
       "    }\n",
       "\n",
       "    .dataframe tbody tr th {\n",
       "        vertical-align: top;\n",
       "    }\n",
       "\n",
       "    .dataframe thead th {\n",
       "        text-align: right;\n",
       "    }\n",
       "</style>\n",
       "<table border=\"1\" class=\"dataframe\">\n",
       "  <thead>\n",
       "    <tr style=\"text-align: right;\">\n",
       "      <th></th>\n",
       "      <th>Date</th>\n",
       "      <th>Open</th>\n",
       "      <th>Close</th>\n",
       "      <th>Volume</th>\n",
       "    </tr>\n",
       "  </thead>\n",
       "  <tbody>\n",
       "    <tr>\n",
       "      <th>1674</th>\n",
       "      <td>2018-10-03</td>\n",
       "      <td>592.60</td>\n",
       "      <td>572.25</td>\n",
       "      <td>18385327</td>\n",
       "    </tr>\n",
       "    <tr>\n",
       "      <th>1675</th>\n",
       "      <td>2018-10-04</td>\n",
       "      <td>565.00</td>\n",
       "      <td>586.25</td>\n",
       "      <td>16877024</td>\n",
       "    </tr>\n",
       "    <tr>\n",
       "      <th>1676</th>\n",
       "      <td>2018-10-05</td>\n",
       "      <td>586.00</td>\n",
       "      <td>568.50</td>\n",
       "      <td>9860010</td>\n",
       "    </tr>\n",
       "    <tr>\n",
       "      <th>1677</th>\n",
       "      <td>2018-10-08</td>\n",
       "      <td>570.00</td>\n",
       "      <td>556.55</td>\n",
       "      <td>12918017</td>\n",
       "    </tr>\n",
       "    <tr>\n",
       "      <th>1678</th>\n",
       "      <td>2018-10-09</td>\n",
       "      <td>561.90</td>\n",
       "      <td>552.85</td>\n",
       "      <td>8053297</td>\n",
       "    </tr>\n",
       "    <tr>\n",
       "      <th>...</th>\n",
       "      <td>...</td>\n",
       "      <td>...</td>\n",
       "      <td>...</td>\n",
       "      <td>...</td>\n",
       "    </tr>\n",
       "    <tr>\n",
       "      <th>1752</th>\n",
       "      <td>2019-01-25</td>\n",
       "      <td>665.20</td>\n",
       "      <td>669.75</td>\n",
       "      <td>6628922</td>\n",
       "    </tr>\n",
       "    <tr>\n",
       "      <th>1753</th>\n",
       "      <td>2019-01-28</td>\n",
       "      <td>669.00</td>\n",
       "      <td>656.30</td>\n",
       "      <td>7792690</td>\n",
       "    </tr>\n",
       "    <tr>\n",
       "      <th>1754</th>\n",
       "      <td>2019-01-29</td>\n",
       "      <td>658.50</td>\n",
       "      <td>660.75</td>\n",
       "      <td>8302420</td>\n",
       "    </tr>\n",
       "    <tr>\n",
       "      <th>1755</th>\n",
       "      <td>2019-01-30</td>\n",
       "      <td>687.05</td>\n",
       "      <td>690.95</td>\n",
       "      <td>46912230</td>\n",
       "    </tr>\n",
       "    <tr>\n",
       "      <th>1756</th>\n",
       "      <td>2019-01-31</td>\n",
       "      <td>697.25</td>\n",
       "      <td>722.70</td>\n",
       "      <td>35239544</td>\n",
       "    </tr>\n",
       "  </tbody>\n",
       "</table>\n",
       "<p>83 rows × 4 columns</p>\n",
       "</div>"
      ],
      "text/plain": [
       "           Date    Open   Close    Volume\n",
       "1674 2018-10-03  592.60  572.25  18385327\n",
       "1675 2018-10-04  565.00  586.25  16877024\n",
       "1676 2018-10-05  586.00  568.50   9860010\n",
       "1677 2018-10-08  570.00  556.55  12918017\n",
       "1678 2018-10-09  561.90  552.85   8053297\n",
       "...         ...     ...     ...       ...\n",
       "1752 2019-01-25  665.20  669.75   6628922\n",
       "1753 2019-01-28  669.00  656.30   7792690\n",
       "1754 2019-01-29  658.50  660.75   8302420\n",
       "1755 2019-01-30  687.05  690.95  46912230\n",
       "1756 2019-01-31  697.25  722.70  35239544\n",
       "\n",
       "[83 rows x 4 columns]"
      ]
     },
     "execution_count": 22,
     "metadata": {},
     "output_type": "execute_result"
    }
   ],
   "source": [
    "dataset_test_with_last60_of_train"
   ]
  },
  {
   "cell_type": "code",
   "execution_count": 23,
   "metadata": {},
   "outputs": [],
   "source": [
    "dataset_test_with_last60_of_train = dataset_test_with_last60_of_train.drop(['Date'],axis = 1).values"
   ]
  },
  {
   "cell_type": "code",
   "execution_count": 24,
   "metadata": {},
   "outputs": [],
   "source": [
    "test = sc.transform(dataset_test_with_last60_of_train)"
   ]
  },
  {
   "cell_type": "code",
   "execution_count": 25,
   "metadata": {},
   "outputs": [],
   "source": [
    "X_test,y_test  = split_sequence(test,60,23)"
   ]
  },
  {
   "cell_type": "code",
   "execution_count": 26,
   "metadata": {},
   "outputs": [
    {
     "data": {
      "text/plain": [
       "((1, 60, 3), (1, 23, 3))"
      ]
     },
     "execution_count": 26,
     "metadata": {},
     "output_type": "execute_result"
    }
   ],
   "source": [
    "X_test.shape, y_test.shape"
   ]
  },
  {
   "cell_type": "code",
   "execution_count": 27,
   "metadata": {},
   "outputs": [],
   "source": [
    "n_outputs = X_test.shape[1] * X_test.shape[2]\n",
    "X_test = X_test.reshape((X_test.shape[0], n_outputs))"
   ]
  },
  {
   "cell_type": "code",
   "execution_count": 28,
   "metadata": {},
   "outputs": [],
   "source": [
    "pred = model.predict(X_test)"
   ]
  },
  {
   "cell_type": "code",
   "execution_count": 29,
   "metadata": {},
   "outputs": [
    {
     "data": {
      "text/plain": [
       "((1, 69), (1, 23, 3))"
      ]
     },
     "execution_count": 29,
     "metadata": {},
     "output_type": "execute_result"
    }
   ],
   "source": [
    "pred.shape,y_test.shape"
   ]
  },
  {
   "cell_type": "code",
   "execution_count": 30,
   "metadata": {},
   "outputs": [],
   "source": [
    "pred = pred.reshape(23,3)"
   ]
  },
  {
   "cell_type": "code",
   "execution_count": 31,
   "metadata": {},
   "outputs": [],
   "source": [
    "y_test = y_test.reshape(23,3)"
   ]
  },
  {
   "cell_type": "code",
   "execution_count": 32,
   "metadata": {},
   "outputs": [],
   "source": [
    "pred = sc.inverse_transform(pred)"
   ]
  },
  {
   "cell_type": "code",
   "execution_count": 33,
   "metadata": {},
   "outputs": [],
   "source": [
    "y_test = sc.inverse_transform(y_test)"
   ]
  },
  {
   "cell_type": "code",
   "execution_count": 34,
   "metadata": {},
   "outputs": [],
   "source": [
    "import matplotlib.pyplot as plt"
   ]
  },
  {
   "cell_type": "code",
   "execution_count": 45,
   "metadata": {},
   "outputs": [
    {
     "name": "stderr",
     "output_type": "stream",
     "text": [
      "No handles with labels found to put in legend.\n"
     ]
    },
    {
     "data": {
      "image/png": "[encoded data removed]",
      "text/plain": [
       "<Figure size 432x288 with 1 Axes>"
      ]
     },
     "metadata": {
      "needs_background": "light"
     },
     "output_type": "display_data"
    }
   ],
   "source": [
    "plt.plot(y_test[:,1],color='red')\n",
    "plt.plot(pred[:,1],color='blue')\n",
    "plt.legend()\n",
    "plt.show()"
   ]
  },
  {
   "cell_type": "code",
   "execution_count": 38,
   "metadata": {},
   "outputs": [
    {
     "data": {
      "text/plain": [
       "(23, 3)"
      ]
     },
     "execution_count": 38,
     "metadata": {},
     "output_type": "execute_result"
    }
   ],
   "source": [
    "y_test.shape"
   ]
  },
  {
   "cell_type": "code",
   "execution_count": null,
   "metadata": {},
   "outputs": [],
   "source": []
  }
 ],
 "metadata": {
  "kernelspec": {
   "display_name": "Python 3",
   "language": "python",
   "name": "python3"
  },
  "language_info": {
   "codemirror_mode": {
    "name": "ipython",
    "version": 3
   },
   "file_extension": ".py",
   "mimetype": "text/x-python",
   "name": "python",
   "nbconvert_exporter": "python",
   "pygments_lexer": "ipython3",
   "version": "3.7.7"
  }
 },
 "nbformat": 4,
 "nbformat_minor": 4
}
